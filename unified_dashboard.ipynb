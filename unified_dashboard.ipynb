{
 "cells": [
  {
   "cell_type": "code",
   "execution_count": null,
   "metadata": {
    "execution": {
     "iopub.execute_input": "2022-02-19T00:09:34.907Z",
     "iopub.status.busy": "2022-02-19T00:09:34.902Z",
     "iopub.status.idle": "2022-02-19T00:09:36.609Z",
     "shell.execute_reply": "2022-02-19T00:09:36.623Z"
    }
   },
   "outputs": [],
   "source": [
    "from astropy import time\n",
    "import numpy as np\n",
    "import glob\n",
    "import os.path\n",
    "import json\n",
    "import matplotlib.pyplot as plt\n",
    "from functools import partial\n",
    "import signal\n",
    "\n",
    "from IPython import display\n",
    "import pandas as pd\n",
    "import panel as pn\n",
    "pn.extension(\"tabulator\")\n",
    "import hvplot.pandas\n",
    "import holoviews as hv\n",
    "hv.extension(\"bokeh\")\n",
    "\n",
    "from astropy.coordinates import EarthLocation\n",
    "from astropy.time import Time, TimeDelta\n",
    "import astropy.units as u\n",
    "\n",
    "import sched_funcs, antmon\n",
    "from event import labels, lookup\n",
    "from dsacalib import weights\n",
    "\n",
    "try:\n",
    "    from dsaT3.utils import archive\n",
    "except ImportError:\n",
    "    print(\"No T3. Skipping...\")\n",
    "\n",
    "try:\n",
    "    from dsautils import dsa_store\n",
    "    ds = dsa_store.DsaStore()\n",
    "except ImportError:\n",
    "    ds = None\n",
    "    \n",
    "trig_pane = None\n",
    "sched_pane = None\n",
    "calibration_pane = None\n",
    "bokeh_pane = None"
   ]
  },
  {
   "cell_type": "markdown",
   "metadata": {},
   "source": [
    "### Trigger inspection"
   ]
  },
  {
   "cell_type": "code",
   "execution_count": null,
   "metadata": {},
   "outputs": [],
   "source": [
    "base = '/dataz/dsa110/operations/T3/realtime'"
   ]
  },
  {
   "cell_type": "code",
   "execution_count": null,
   "metadata": {},
   "outputs": [],
   "source": [
    "fn_pngs = sorted(glob.glob(os.path.join(base, '*png')))\n",
    "fn_jsons = sorted(glob.glob(os.path.join(base, '*json')))\n",
    "fn_jsons = [fn for fn in fn_jsons if 'management' not in fn]"
   ]
  },
  {
   "cell_type": "code",
   "execution_count": null,
   "metadata": {},
   "outputs": [],
   "source": [
    "triggernames = [fn[:-5] for fn in fn_jsons]\n",
    "\n",
    "if len(fn_pngs) != len(fn_jsons):\n",
    "    print('Warning: different number of pngs and jsons')\n",
    "    # TODO: add logic to find list of triggernames?\n",
    "\n",
    "print(f'Found {len(triggernames)} complete triggers')\n",
    "\n",
    "##optional: parse management.json file to see what else is going on?\n",
    "#with open('/home/ubuntu/data/T3/management.json', 'r') as fp:\n",
    "#    dd = json.load(fp)"
   ]
  },
  {
   "cell_type": "code",
   "execution_count": null,
   "metadata": {
    "scrolled": true
   },
   "outputs": [],
   "source": [
    "if triggernames:\n",
    "    dds = []\n",
    "    keys = ['mjds', 'snr', 'dm', 'ibox', 'ibeam', 'trigname', 'ra', 'dec', 'probability', 'label', 'save']\n",
    "    for triggername in triggernames:\n",
    "        dd = labels.readfile(triggername + '.json')\n",
    "        if dd is None:\n",
    "            continue\n",
    "        dd2 = dd.fromkeys(keys)\n",
    "        for key in keys:\n",
    "            if key in dd:\n",
    "                dd2[key] = dd[key]\n",
    "            else:\n",
    "                dd2[key] = -1\n",
    "        dds.append(dd2)\n",
    "    df = pd.DataFrame.from_dict(dds)\n",
    "    df.set_index('trigname', inplace=True)\n",
    "    df_pane = pn.widgets.Tabulator(df, layout='fit_data_table', pagination='remote', page_size=10,\n",
    "                                  selectable='checkbox', height=400, width=1000)\n",
    "else:\n",
    "    df_pane = pn.widgets.Tabulator(pd.DataFrame(), layout='fit_data_table', pagination='remote', page_size=10,\n",
    "                                  selectable='checkbox', height=400, width=1000)"
   ]
  },
  {
   "cell_type": "code",
   "execution_count": null,
   "metadata": {},
   "outputs": [],
   "source": [
    "def set_label(label=False):\n",
    "    if label is not None:\n",
    "        if label is 'None':\n",
    "            label = ''\n",
    "        if len(df_pane.selection):\n",
    "            for trigname in df_pane.selected_dataframe.index:\n",
    "                labels.set_label(label, candname=trigname)\n",
    "            return f'Labeled {list(df_pane.selected_dataframe.index)} as {label}'\n",
    "\n",
    "def set_notes(note):\n",
    "    if note:\n",
    "        if len(df_pane.selection):\n",
    "            for trigname in df_pane.selected_dataframe.index:\n",
    "                labels.set_notes(note, candname=trigname)\n",
    "            return f'Note added for {list(df_pane.selected_dataframe.index)}'\n",
    "    else:\n",
    "        if len(df_pane.selection):\n",
    "            for trigname in df_pane.selected_dataframe.index:\n",
    "                labels.set_notes('', candname=trigname)            \n",
    "            return f'Note removed for {list(df_pane.selected_dataframe.index)}'\n",
    "\n",
    "def run_lookup(event):\n",
    "    lookup_text.value = 'Looking...'\n",
    "    if len(df_pane.selection):\n",
    "        ss = ''\n",
    "        for trigname in df_pane.selected_dataframe.index:\n",
    "            ra, dec = df.loc[trigname][['ra', 'dec']]\n",
    "            result = lookup.find_associations(float(ra), float(dec), nvss_radius=3.3*3600, atnf_radius=3.3*3600)\n",
    "            for src in result:\n",
    "                ss += f'{trigname} is {src[2][0]} arcsec from {src[0]} source. '\n",
    "        if ss:\n",
    "            lookup_text.value = ss\n",
    "        else:\n",
    "            lookup_text.value = 'Nothing found.'\n",
    "    else:\n",
    "        lookup_text.value = f'Nothing selected.'\n",
    "\n",
    "def run_archive(event):\n",
    "    with pn.param.set_values(png_column, loading=True):\n",
    "        result = archive(datestring)\n",
    "        if len(result):\n",
    "            archive_text.value = f'Archived {\",\".join(result)}'\n",
    "        else:\n",
    "            archive_text.value = 'No files to archive'\n",
    "\n",
    "get_name = pn.widgets.Button(name='Load plot for selected row', width=900, button_type='primary')\n",
    "png_column = pn.Column('', width=900)\n",
    "\n",
    "def set_png(event):\n",
    "    if len(df_pane.selection):\n",
    "        triggername = df_pane.selected_dataframe.index[0]\n",
    "        if len(df_pane.selection) > 1:\n",
    "            print(f'Only using first selected row {triggername}')\n",
    "        fn = os.path.join(base, triggername + '.png')\n",
    "        if os.path.exists(fn):\n",
    "            with pn.param.set_values(png_column, loading=True):\n",
    "                image = display.Image(fn)\n",
    "                _ = png_column.pop(0)\n",
    "                png_column.append(image)\n",
    "        archive_text.value = f\"{df_pane.selection} {fn}\"\n",
    "\n",
    "    else:\n",
    "        _ = png_column.pop(0)\n",
    "        png_column.append(\"Nothing selected\")\n",
    "\n",
    "_ = get_name.param.watch(set_png, 'value')\n",
    "\n",
    "datestring = ds.get_dict('/cnf/datestring') if ds is not None else None\n",
    "archive_text = pn.widgets.TextInput(value=datestring, width=250)\n",
    "archive_button = pn.widgets.Button(name='Debug text', width=250, button_type='primary')\n",
    "#archive_button.on_click(run_archive)\n",
    "\n",
    "lookup_text = pn.widgets.TextInput(value='Ready', width=650)\n",
    "lookup_input = pn.widgets.Button(name='Run coordinate lookup on selected row', width=250, button_type='primary')\n",
    "lookup_input.on_click(run_lookup)\n",
    "lookup_pane = pn.Row(lookup_input, lookup_text)\n",
    "\n",
    "label_group = pn.widgets.RadioButtonGroup(name='Add label for selected row(s)',\n",
    "                                          options=['astrophysical', 'injection', 'rfi', 'instrumental',\n",
    "                                                   'unsure/noise', 'save', 'None'], button_type='success',\n",
    "                                          width=500, value='None')\n",
    "get_notes = pn.widgets.TextInput(placeholder='Freeform note', value='')"
   ]
  },
  {
   "cell_type": "code",
   "execution_count": null,
   "metadata": {
    "scrolled": false
   },
   "outputs": [],
   "source": [
    "label_pane = pn.Column(label_group, pn.panel(pn.bind(set_label, label_group)))\n",
    "notes_pane = pn.Column(get_notes, pn.panel(pn.bind(set_notes, get_notes)))\n",
    "ln_pane = pn.Row(label_pane, notes_pane, sizing_mode='stretch_width')\n",
    "a_pane = pn.Row(archive_button, archive_text)"
   ]
  },
  {
   "cell_type": "code",
   "execution_count": null,
   "metadata": {},
   "outputs": [],
   "source": [
    "dashboard_title = pn.pane.Markdown('# DSA-110 Trigger Dashboard')\n",
    "header = pn.pane.Markdown('Add labels and notes for selected rows')"
   ]
  },
  {
   "cell_type": "code",
   "execution_count": null,
   "metadata": {},
   "outputs": [],
   "source": [
    "trig_pane = pn.Column(dashboard_title, df_pane, header, ln_pane, lookup_pane, a_pane,\n",
    "                      pn.Column(get_name, png_column))"
   ]
  },
  {
   "cell_type": "code",
   "execution_count": null,
   "metadata": {
    "scrolled": false
   },
   "outputs": [],
   "source": [
    "#trig_pane.servable(title='dashboard')"
   ]
  },
  {
   "cell_type": "markdown",
   "metadata": {},
   "source": [
    "### Scheduling\n"
   ]
  },
  {
   "cell_type": "code",
   "execution_count": null,
   "metadata": {
    "execution": {
     "iopub.execute_input": "2022-02-19T00:19:58.094Z",
     "iopub.status.busy": "2022-02-19T00:19:58.091Z",
     "iopub.status.idle": "2022-02-19T00:19:58.101Z",
     "shell.execute_reply": "2022-02-19T00:19:58.105Z"
    }
   },
   "outputs": [],
   "source": [
    "def schedule(targets=None, duration=None, delay=None):\n",
    "    \"\"\" Start should be astropy time object (default is \"now\")\n",
    "    Duration is in hours (default is 24 hours)\n",
    "    Delay is in hours from now.\n",
    "    \"\"\"\n",
    "\n",
    "    print(f'targets, delay, duration: {targets}, {delay}, {duration}')\n",
    "    ovro = EarthLocation(lon=-118.2951 * u.deg, lat=37.2317 * u.deg, height=1222 * u.m)\n",
    "    catalog = sched_funcs.read_srcs('/home/ubuntu/proj/dsa110-shell/dsa110-vis/catalog.yaml')\n",
    "\n",
    "    if targets is not None and targets != '':\n",
    "        catalog['sources'] = [src for src in catalog['sources'] if src['name'] in targets]\n",
    "\n",
    "    if duration is None or duration == '':\n",
    "        duration = 24.\n",
    "    else:\n",
    "        duration = float(duration)\n",
    "\n",
    "    if delay is None or delay == '':\n",
    "        delay = 0.\n",
    "    else:\n",
    "        delay = float(delay)\n",
    "\n",
    "    start_time = Time.now() + TimeDelta(delay*u.hour)\n",
    "\n",
    "    # calculate actions\n",
    "    print(f'Catalog: {catalog}')\n",
    "    catalog2, transit_times, max_alts, stimes, end_times, northy = sched_funcs.return_times_day(catalog, start_time, duration, ovro)\n",
    "    print(f'Catalog2: {catalog2}')\n",
    "    actions = sched_funcs.define_actions_simple(catalog2, transit_times, max_alts, stimes, end_times, northy, recording=True)\n",
    "\n",
    "    # save actions\n",
    "    names = [src['name'] for src in catalog2]\n",
    "    transits = [t.mjd[0] for t in transit_times]\n",
    "\n",
    "    sidereal_time = Time.now().sidereal_time('apparent', longitude=ovro.lon)\n",
    "    \n",
    "    fig, ax = plt.subplots(1, 1)\n",
    "    for name, ttran, alt, start, stop in list(zip(names, transits, max_alts, stimes, end_times)):\n",
    "        ax.plot([start, stop], [alt, alt], '-', label=name)\n",
    "        ax.plot(ttran, alt, 'kx')\n",
    "        ax.text(Time.now().mjd, 60, f'current sid time={sidereal_time.value:.2f}',\n",
    "                horizontalalignment='center', verticalalignment='center', rotation='vertical')\n",
    "        ax.legend()\n",
    "        ax.set_ylim(20, 110)\n",
    "        ax.set_xlim(Time.now().mjd - duration/24/10, stop+duration/24/10)\n",
    "        ax.set_ylabel('Elevation (deg)')\n",
    "        ax.set_xlabel(f'Time (MJD start={Time.now().mjd})')\n",
    "    return fig, actions"
   ]
  },
  {
   "cell_type": "markdown",
   "metadata": {},
   "source": [
    "ovro = EarthLocation(lon=-118.2951 * u.deg, lat=37.2317 * u.deg, height=1222 * u.m)\n",
    "catalog = sched_funcs.read_srcs('/home/ubuntu/proj/dsa110-shell/dsa110-vis/catalog.yaml')\n",
    "start_time = Time.now()\n",
    "duration = 24\n",
    "catalog['sources'] = [src for src in catalog['sources'] if src['name'] in ['3C196']]\n",
    "catalog2, transit_times, max_alts, stimes, end_times, northy = sched_funcs.return_times_day(catalog, start_time, duration, ovro)\n",
    "print(max_alts, northy)\n",
    "actions = sched_funcs.define_actions_simple(catalog2, transit_times, max_alts, stimes, end_times, northy, recording=True)\n",
    "from astropy.coordinates import SkyCoord, AltAz\n",
    "deltas = np.linspace(0., duration, 6*60*int(duration))*u.hour\n",
    "times = start_time + deltas\n",
    "transit_times = []\n",
    "srcnames = []\n",
    "max_alts = []\n",
    "northy = []\n",
    "repeats = int(np.ceil(max(deltas.value)/24))\n",
    "src = catalog['sources'][0]\n",
    "coord=SkyCoord(ra=src['RA'], dec=src['DEC'], unit=(u.hourangle, u.deg))\n",
    "i = 0\n",
    "times0 = times[(deltas.value < (i+1)*24) & (i*24 < deltas.value)]\n",
    "aas = coord.transform_to(AltAz(obstime=times0, location=ovro))\n",
    "alts = aas.alt.value\n",
    "azs = aas.az.value\n",
    "tt = times0[(alts >= alts.max()) * (np.abs(azs.min()) < 10)]"
   ]
  },
  {
   "cell_type": "markdown",
   "metadata": {},
   "source": [
    "plt.plot(times0.mjd, alts, '.', label='alt')\n",
    "plt.plot(times0.mjd, azs, '.', label='az')\n",
    "plt.legend()"
   ]
  },
  {
   "cell_type": "code",
   "execution_count": null,
   "metadata": {
    "execution": {
     "iopub.execute_input": "2022-02-19T01:09:06.904Z",
     "iopub.status.busy": "2022-02-19T01:09:06.898Z",
     "iopub.status.idle": "2022-02-19T01:09:06.911Z",
     "shell.execute_reply": "2022-02-19T01:09:06.914Z"
    },
    "jupyter": {
     "outputs_hidden": false,
     "source_hidden": false
    },
    "nteract": {
     "transient": {
      "deleting": false
     }
    }
   },
   "outputs": [],
   "source": [
    "target_text = pn.widgets.TextInput(value='3C147', name='Targets (comma-delimited)', width=200, height=50)\n",
    "duration_text = pn.widgets.TextInput(value=None, name='Duration', width=50, height=50)\n",
    "delay_text = pn.widgets.TextInput(value=None, name='Delay', width=50, height=50)\n",
    "plot_button = pn.widgets.Button(name='Make plot', width=100, button_type='primary')\n",
    "plot = pn.pane.Matplotlib(width=700, height=400)\n",
    "run_button = pn.widgets.Button(name='Run actions', width=100, button_type='primary')\n",
    "#interrupt_button = pn.widgets.Button(name='Interrupt actions', width=100, button_type='primary')\n",
    "if os.path.exists('output_text'):\n",
    "    with open('output_text', 'r') as fp:\n",
    "        value = fp.read()\n",
    "else:\n",
    "    value = ''\n",
    "output_text = pn.widgets.TextAreaInput(value=value, name='Action log', width=800, height=300)\n",
    "\n",
    "def set_plot(event):\n",
    "    if len(cat_pane.selection):\n",
    "        target_text.value = ','.join(cat_pane.selected_dataframe.index)\n",
    "\n",
    "    with pn.param.set_values(plot, loading=True):\n",
    "        try:\n",
    "            fig, actions = schedule(targets=target_text.value, delay=delay_text.value,\n",
    "                                    duration=duration_text.value)\n",
    "            np.save('actions.npy', actions)\n",
    "            plot.object = fig\n",
    "            output_text.value = f'Actions for plot:'\n",
    "            for ln in actions:\n",
    "                output_text.value+=f'\\nWait until {ln[\"time\"]}'\n",
    "                output_text.value+=f'\\nCommand {ln[\"cmd\"]} {ln[\"val\"]}'\n",
    "                save_output_text(output_text)\n",
    "\n",
    "        except:\n",
    "            plot.object = None\n",
    "\n",
    "def run_actions(event):\n",
    "    fig, actions = schedule(targets=target_text.value, delay=delay_text.value,\n",
    "                            duration=duration_text.value)\n",
    "    np.save('actions.npy', actions)\n",
    "    output_text.value = f'Running actions:'\n",
    "    for ln in actions:\n",
    "#        if os.path.exists('interrupt'):\n",
    "#            output_text.value+='\\nInterrupted'\n",
    "#            os.remove('interrupt')\n",
    "#            break\n",
    "            \n",
    "        output_text.value+=f'\\n{Time.now().iso} (MJD: {Time.now().mjd}): Waiting until {ln[\"time\"]}'\n",
    "        save_output_text(output_text)\n",
    "        status = sched_funcs.pause_until(ln['time'])\n",
    "\n",
    "#        if status:\n",
    "#            output_text.value+='\\nInterrupted'\n",
    "#            save_output_text(output_text)\n",
    "#            os.remove('interrupt')\n",
    "#            break\n",
    "\n",
    "        output_text.value+=f'\\n{Time.now().iso} (MJD: {Time.now().mjd}: Command {ln[\"cmd\"]} {ln[\"val\"]}'\n",
    "        save_output_text(output_text)\n",
    "        sched_funcs.exec_action(ln)\n",
    "\n",
    "def save_output_text(output_text):\n",
    "    with open('output_text', 'w') as fp:\n",
    "        fp.write(output_text.value)\n",
    "\n",
    "\n",
    "run_button.on_click(run_actions)\n",
    "plot_button.on_click(set_plot)\n",
    "#interrupt_button.on_click(interrupt)\n",
    "\n",
    "catalog = sched_funcs.read_srcs('/home/ubuntu/proj/dsa110-shell/dsa110-vis/catalog.yaml')\n",
    "df_cat = pd.DataFrame.from_dict(catalog['sources'])\n",
    "df_cat.set_index('name', inplace=True)\n",
    "cat_pane = pn.widgets.Tabulator(df_cat, layout='fit_data_table', pagination='remote', page_size=10,\n",
    "                                   selectable='checkbox', height=400, width=800)\n",
    "\n",
    "scheduler_title = pn.pane.Markdown('# DSA-110 Scheduler')"
   ]
  },
  {
   "cell_type": "code",
   "execution_count": null,
   "metadata": {},
   "outputs": [],
   "source": [
    "sched_pane = pn.Column(pn.Row(scheduler_title), pn.Row(target_text, delay_text, duration_text,\n",
    "                                                       plot_button, run_button),#, interrupt_button),\n",
    "                       pn.Row(cat_pane),\n",
    "                       pn.Row(output_text),\n",
    "                       pn.Row(plot))"
   ]
  },
  {
   "cell_type": "markdown",
   "metadata": {},
   "source": [
    "### Calibration"
   ]
  },
  {
   "cell_type": "code",
   "execution_count": null,
   "metadata": {},
   "outputs": [],
   "source": [
    "path_calib = '/data/dsa110/T3/calibs/'"
   ]
  },
  {
   "cell_type": "code",
   "execution_count": null,
   "metadata": {},
   "outputs": [],
   "source": [
    "plot_cal = pn.pane.Matplotlib(width=700, height=400)\n",
    "calplot_button = pn.widgets.Button(name='Make calplot', width=100, button_type='primary')\n",
    "\n",
    "def set_calplot(event):\n",
    "    with pn.param.set_values(plot, loading=True):\n",
    "        try:\n",
    "            bfweights = ds.get_dict('/mon/cal/bfweights')\n",
    "            if 'bfname' in bfweights:\n",
    "                bfname = bfweights['bfname']\n",
    "            else:\n",
    "                latest = max(glob.glob(os.path.join(path_calib, 'beamformer_weights_corr03_*dat')), key=os.path.getctime)\n",
    "                bfname = latest.split('/')[-1].lstrip('beamformer_weights_corr03_').rstrip('.dat')\n",
    "                print(bfname)\n",
    "            gains = weights.read_gains(path=path_calib, bfnames=[bfname])\n",
    "            fig = weights.show_gains([bfname], gains, [0], ret=True, show=False)\n",
    "\n",
    "            plot_cal.object = fig\n",
    "        except:\n",
    "            plot_cal.object = None\n",
    "\n",
    "\n",
    "calplot_button.on_click(set_calplot)\n",
    "calibration_title = pn.pane.Markdown('# DSA-110 Calibration')"
   ]
  },
  {
   "cell_type": "code",
   "execution_count": null,
   "metadata": {},
   "outputs": [],
   "source": [
    "calibration_pane = pn.Column(pn.Row(calibration_title), pn.Row(calplot_button),\n",
    "                             pn.Row(plot_cal))"
   ]
  },
  {
   "cell_type": "markdown",
   "metadata": {},
   "source": [
    "### Antenna status (bokeh plot)"
   ]
  },
  {
   "cell_type": "code",
   "execution_count": null,
   "metadata": {},
   "outputs": [],
   "source": [
    "try:\n",
    "    pall, source, source2, source3 = antmon.makefig()\n",
    "except:\n",
    "    pall = None\n",
    "bokeh_pane = pn.pane.Bokeh(pall)\n",
    "\n",
    "# automatic updates\n",
    "#bokeh_pane.servable()\n",
    "#def update(source, source2, source3):\n",
    "#    antmon.update(source, source2, source3)\n",
    "#    bokeh_pane.param.trigger('object')\n",
    "#cb = pn.state.add_periodic_callback(partial(update, source, source2, source3), 1000, timeout=5000)"
   ]
  },
  {
   "cell_type": "code",
   "execution_count": null,
   "metadata": {
    "scrolled": false
   },
   "outputs": [],
   "source": [
    "dashboard = pn.Column(pn.Row(pn.layout.tabs.Tabs(('Triggers', trig_pane),\n",
    "                                                 ('Scheduler', sched_pane),\n",
    "                                                 ('Calibration', calibration_pane),\n",
    "                                                 ('Antenna Monitor', bokeh_pane)),\n",
    "                             margin=(10, 10, 10, 10), background='#f0f0f0'))\n",
    "\n",
    "# Potential speedup with (dynamic=True) https://panel.holoviz.org/reference/layouts/Tabs.html?highlight=tabs#dynamic"
   ]
  },
  {
   "cell_type": "code",
   "execution_count": null,
   "metadata": {
    "scrolled": false
   },
   "outputs": [],
   "source": [
    "dashboard.servable(title='dashboard')"
   ]
  },
  {
   "cell_type": "code",
   "execution_count": null,
   "metadata": {},
   "outputs": [],
   "source": [
    "#np.load('actions.npy', allow_pickle=True)"
   ]
  }
 ],
 "metadata": {
  "kernelspec": {
   "display_name": "casa38",
   "language": "python",
   "name": "casa38"
  },
  "language_info": {
   "codemirror_mode": {
    "name": "ipython",
    "version": 3
   },
   "file_extension": ".py",
   "mimetype": "text/x-python",
   "name": "python",
   "nbconvert_exporter": "python",
   "pygments_lexer": "ipython3",
   "version": "3.8.13"
  },
  "nteract": {
   "version": "0.28.0"
  }
 },
 "nbformat": 4,
 "nbformat_minor": 4
}
